{
 "cells": [
  {
   "cell_type": "code",
   "execution_count": 13,
   "metadata": {},
   "outputs": [],
   "source": [
    "import pandas as pd\n",
    "import numpy as np\n",
    "from utils import *\n",
    "import math\n",
    "import functools\n",
    "import copy"
   ]
  },
  {
   "cell_type": "code",
   "execution_count": 14,
   "metadata": {},
   "outputs": [],
   "source": [
    "data = fileRead(\"input.txt\")"
   ]
  },
  {
   "cell_type": "markdown",
   "metadata": {},
   "source": [
    "## Part 1"
   ]
  },
  {
   "cell_type": "code",
   "execution_count": 15,
   "metadata": {},
   "outputs": [],
   "source": [
    "grid = [list(i.strip()) for i in data]"
   ]
  },
  {
   "cell_type": "code",
   "execution_count": 16,
   "metadata": {},
   "outputs": [],
   "source": [
    "antennas = {}\n",
    "for i in range(len(grid)):\n",
    "    for j in range(len(grid[0])):\n",
    "        val = grid[i][j]\n",
    "        if val != \".\":\n",
    "            if val not in antennas.keys():\n",
    "                antennas[val] = ((i,j),)\n",
    "            else:\n",
    "                antennas[val] = antennas[val] + ((i,j),)"
   ]
  },
  {
   "cell_type": "code",
   "execution_count": 17,
   "metadata": {},
   "outputs": [
    {
     "data": {
      "text/plain": [
       "348"
      ]
     },
     "execution_count": 17,
     "metadata": {},
     "output_type": "execute_result"
    }
   ],
   "source": [
    "antinodes = set()\n",
    "for group in antennas.values():\n",
    "    for i in range(len(group)):\n",
    "        for j in range(i+1,len(group)):\n",
    "            first = group[i]\n",
    "            second = group[j]\n",
    "            diff = posSub(first, second)\n",
    "            a1 = posAdd(first,diff)\n",
    "            a2 = posSub(second,diff)\n",
    "            if inGrid(a1, grid):\n",
    "                antinodes.add(a1)\n",
    "            if inGrid(a2, grid):\n",
    "                antinodes.add(a2)\n",
    "len(antinodes)"
   ]
  },
  {
   "cell_type": "markdown",
   "metadata": {},
   "source": [
    "## Part 2"
   ]
  }
 ],
 "metadata": {
  "kernelspec": {
   "display_name": "base",
   "language": "python",
   "name": "python3"
  },
  "language_info": {
   "codemirror_mode": {
    "name": "ipython",
    "version": 3
   },
   "file_extension": ".py",
   "mimetype": "text/x-python",
   "name": "python",
   "nbconvert_exporter": "python",
   "pygments_lexer": "ipython3",
   "version": "3.11.7"
  }
 },
 "nbformat": 4,
 "nbformat_minor": 2
}
